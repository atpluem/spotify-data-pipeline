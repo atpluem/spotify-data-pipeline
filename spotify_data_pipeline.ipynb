{
 "cells": [
  {
   "cell_type": "code",
   "execution_count": 2,
   "metadata": {},
   "outputs": [
    {
     "name": "stdout",
     "output_type": "stream",
     "text": [
      "Requirement already satisfied: spotipy in c:\\users\\atplu\\anaconda3\\lib\\site-packages (2.23.0)\n",
      "Requirement already satisfied: requests>=2.25.0 in c:\\users\\atplu\\anaconda3\\lib\\site-packages (from spotipy) (2.28.1)\n",
      "Requirement already satisfied: redis>=3.5.3 in c:\\users\\atplu\\anaconda3\\lib\\site-packages (from spotipy) (5.0.0)\n",
      "Requirement already satisfied: urllib3>=1.26.0 in c:\\users\\atplu\\anaconda3\\lib\\site-packages (from spotipy) (1.26.11)\n",
      "Requirement already satisfied: six>=1.15.0 in c:\\users\\atplu\\anaconda3\\lib\\site-packages (from spotipy) (1.16.0)\n",
      "Requirement already satisfied: async-timeout>=4.0.2 in c:\\users\\atplu\\anaconda3\\lib\\site-packages (from redis>=3.5.3->spotipy) (4.0.3)\n",
      "Requirement already satisfied: charset-normalizer<3,>=2 in c:\\users\\atplu\\anaconda3\\lib\\site-packages (from requests>=2.25.0->spotipy) (2.0.4)\n",
      "Requirement already satisfied: idna<4,>=2.5 in c:\\users\\atplu\\anaconda3\\lib\\site-packages (from requests>=2.25.0->spotipy) (3.3)\n",
      "Requirement already satisfied: certifi>=2017.4.17 in c:\\users\\atplu\\anaconda3\\lib\\site-packages (from requests>=2.25.0->spotipy) (2023.5.7)\n",
      "Note: you may need to restart the kernel to use updated packages.\n"
     ]
    }
   ],
   "source": [
    "%pip install spotipy"
   ]
  },
  {
   "cell_type": "code",
   "execution_count": 16,
   "metadata": {},
   "outputs": [],
   "source": [
    "import spotipy\n",
    "from spotipy.oauth2 import SpotifyClientCredentials\n",
    "\n",
    "import pandas as pd\n",
    "import json"
   ]
  },
  {
   "cell_type": "code",
   "execution_count": 2,
   "metadata": {},
   "outputs": [],
   "source": [
    "# define id and secret key of Spotify API\n",
    "client_id = ''\n",
    "client_secret = ''\n",
    "client_credentials_manager = SpotifyClientCredentials(client_id=client_id,\n",
    "                                                      client_secret=client_secret)"
   ]
  },
  {
   "cell_type": "code",
   "execution_count": 3,
   "metadata": {},
   "outputs": [],
   "source": [
    "sp = spotipy.Spotify(client_credentials_manager=client_credentials_manager)"
   ]
  },
  {
   "cell_type": "code",
   "execution_count": 29,
   "metadata": {},
   "outputs": [],
   "source": [
    "# Viral Hits Thailand\n",
    "playlist_link = 'https://open.spotify.com/playlist/37i9dQZF1DX812gZSD3Ky1'\n",
    "playlist_url = playlist_link.split('/')[-1].split('?')[0]"
   ]
  },
  {
   "cell_type": "code",
   "execution_count": 30,
   "metadata": {},
   "outputs": [],
   "source": [
    "data = sp.playlist_tracks(playlist_url)"
   ]
  },
  {
   "cell_type": "code",
   "execution_count": 31,
   "metadata": {},
   "outputs": [],
   "source": [
    "# write sample data to json\n",
    "with open('sample_data.json', 'w') as f:\n",
    "    json.dump(data, f)"
   ]
  },
  {
   "cell_type": "code",
   "execution_count": 32,
   "metadata": {},
   "outputs": [],
   "source": [
    "album_list = []\n",
    "artist_list = []\n",
    "song_list = []\n",
    "for row in data['items']:\n",
    "    album_dict = {'album_id': row['track']['album']['id'],\n",
    "                  'album_name': row['track']['album']['name'].replace(',', ''), \n",
    "                  'release_date': row['track']['album']['release_date'],\n",
    "                  'total_tracks': row['track']['album']['total_tracks'],\n",
    "                  'url': row['track']['album']['external_urls']['spotify']}\n",
    "    album_list.append(album_dict)\n",
    "\n",
    "    for artist in row['track']['artists']:\n",
    "        artist_dict = {'artist_id': artist['id'], \n",
    "                        'artist_name': artist['name'].replace(',', ''), \n",
    "                        'external_url': artist['href']}\n",
    "        artist_list.append(artist_dict)\n",
    "\n",
    "    song_dict = {'song_id': row['track']['id'],\n",
    "                 'song_name': row['track']['name'].replace(',', ''),\n",
    "                 'duration_ms': row['track']['duration_ms'],\n",
    "                 'url': row['track']['external_urls']['spotify'],\n",
    "                 'popularity': row['track']['popularity'],\n",
    "                 'song_added': row['added_at'],\n",
    "                 'album_id': row['track']['album']['id'],\n",
    "                 'artist_id': row['track']['artists'][0]['id']}\n",
    "    song_list.append(song_dict)"
   ]
  },
  {
   "cell_type": "markdown",
   "metadata": {},
   "source": [
    "Album DataFrame"
   ]
  },
  {
   "cell_type": "code",
   "execution_count": 33,
   "metadata": {},
   "outputs": [
    {
     "data": {
      "text/html": [
       "<div>\n",
       "<style scoped>\n",
       "    .dataframe tbody tr th:only-of-type {\n",
       "        vertical-align: middle;\n",
       "    }\n",
       "\n",
       "    .dataframe tbody tr th {\n",
       "        vertical-align: top;\n",
       "    }\n",
       "\n",
       "    .dataframe thead th {\n",
       "        text-align: right;\n",
       "    }\n",
       "</style>\n",
       "<table border=\"1\" class=\"dataframe\">\n",
       "  <thead>\n",
       "    <tr style=\"text-align: right;\">\n",
       "      <th></th>\n",
       "      <th>album_id</th>\n",
       "      <th>album_name</th>\n",
       "      <th>release_date</th>\n",
       "      <th>total_tracks</th>\n",
       "      <th>url</th>\n",
       "    </tr>\n",
       "  </thead>\n",
       "  <tbody>\n",
       "    <tr>\n",
       "      <th>0</th>\n",
       "      <td>1e26jDA4kEIjhgaMUf8mH1</td>\n",
       "      <td>Last Time I Saw You</td>\n",
       "      <td>2023-09-01</td>\n",
       "      <td>1</td>\n",
       "      <td>https://open.spotify.com/album/1e26jDA4kEIjhga...</td>\n",
       "    </tr>\n",
       "    <tr>\n",
       "      <th>1</th>\n",
       "      <td>54dZypaXHAIDzBe9ujAZ63</td>\n",
       "      <td>Paint The Town Red</td>\n",
       "      <td>2023-08-04</td>\n",
       "      <td>1</td>\n",
       "      <td>https://open.spotify.com/album/54dZypaXHAIDzBe...</td>\n",
       "    </tr>\n",
       "    <tr>\n",
       "      <th>2</th>\n",
       "      <td>1xJHno7SmdVtZAtXbdbDZp</td>\n",
       "      <td>GUTS</td>\n",
       "      <td>2023-09-08</td>\n",
       "      <td>12</td>\n",
       "      <td>https://open.spotify.com/album/1xJHno7SmdVtZAt...</td>\n",
       "    </tr>\n",
       "    <tr>\n",
       "      <th>3</th>\n",
       "      <td>1NAmidJlEaVgA3MpcPFYGq</td>\n",
       "      <td>Lover</td>\n",
       "      <td>2019-08-23</td>\n",
       "      <td>18</td>\n",
       "      <td>https://open.spotify.com/album/1NAmidJlEaVgA3M...</td>\n",
       "    </tr>\n",
       "    <tr>\n",
       "      <th>4</th>\n",
       "      <td>4YbgMvlvGC8FjzkSOLGgWC</td>\n",
       "      <td>The Lost Petals</td>\n",
       "      <td>2023-09-08</td>\n",
       "      <td>5</td>\n",
       "      <td>https://open.spotify.com/album/4YbgMvlvGC8Fjzk...</td>\n",
       "    </tr>\n",
       "  </tbody>\n",
       "</table>\n",
       "</div>"
      ],
      "text/plain": [
       "                 album_id           album_name release_date  total_tracks  \\\n",
       "0  1e26jDA4kEIjhgaMUf8mH1  Last Time I Saw You   2023-09-01             1   \n",
       "1  54dZypaXHAIDzBe9ujAZ63   Paint The Town Red   2023-08-04             1   \n",
       "2  1xJHno7SmdVtZAtXbdbDZp                 GUTS   2023-09-08            12   \n",
       "3  1NAmidJlEaVgA3MpcPFYGq                Lover   2019-08-23            18   \n",
       "4  4YbgMvlvGC8FjzkSOLGgWC      The Lost Petals   2023-09-08             5   \n",
       "\n",
       "                                                 url  \n",
       "0  https://open.spotify.com/album/1e26jDA4kEIjhga...  \n",
       "1  https://open.spotify.com/album/54dZypaXHAIDzBe...  \n",
       "2  https://open.spotify.com/album/1xJHno7SmdVtZAt...  \n",
       "3  https://open.spotify.com/album/1NAmidJlEaVgA3M...  \n",
       "4  https://open.spotify.com/album/4YbgMvlvGC8Fjzk...  "
      ]
     },
     "execution_count": 33,
     "metadata": {},
     "output_type": "execute_result"
    }
   ],
   "source": [
    "album_df = pd.DataFrame.from_dict(album_list)\n",
    "album_df.head()"
   ]
  },
  {
   "cell_type": "code",
   "execution_count": 34,
   "metadata": {},
   "outputs": [],
   "source": [
    "album_df.drop_duplicates(subset=['album_id'], inplace=True)"
   ]
  },
  {
   "cell_type": "code",
   "execution_count": 35,
   "metadata": {},
   "outputs": [],
   "source": [
    "album_df['release_date'] = pd.to_datetime(album_df['release_date'])"
   ]
  },
  {
   "cell_type": "markdown",
   "metadata": {},
   "source": [
    "Artist DataFrame"
   ]
  },
  {
   "cell_type": "code",
   "execution_count": 36,
   "metadata": {},
   "outputs": [
    {
     "data": {
      "text/html": [
       "<div>\n",
       "<style scoped>\n",
       "    .dataframe tbody tr th:only-of-type {\n",
       "        vertical-align: middle;\n",
       "    }\n",
       "\n",
       "    .dataframe tbody tr th {\n",
       "        vertical-align: top;\n",
       "    }\n",
       "\n",
       "    .dataframe thead th {\n",
       "        text-align: right;\n",
       "    }\n",
       "</style>\n",
       "<table border=\"1\" class=\"dataframe\">\n",
       "  <thead>\n",
       "    <tr style=\"text-align: right;\">\n",
       "      <th></th>\n",
       "      <th>artist_id</th>\n",
       "      <th>artist_name</th>\n",
       "      <th>external_url</th>\n",
       "    </tr>\n",
       "  </thead>\n",
       "  <tbody>\n",
       "    <tr>\n",
       "      <th>0</th>\n",
       "      <td>0hCNtLu0JehylgoiP8L4Gh</td>\n",
       "      <td>Nicki Minaj</td>\n",
       "      <td>https://api.spotify.com/v1/artists/0hCNtLu0Jeh...</td>\n",
       "    </tr>\n",
       "    <tr>\n",
       "      <th>1</th>\n",
       "      <td>5cj0lLjcoR7YOSnhnX0Po5</td>\n",
       "      <td>Doja Cat</td>\n",
       "      <td>https://api.spotify.com/v1/artists/5cj0lLjcoR7...</td>\n",
       "    </tr>\n",
       "    <tr>\n",
       "      <th>2</th>\n",
       "      <td>1McMsnEElThX1knmY4oliG</td>\n",
       "      <td>Olivia Rodrigo</td>\n",
       "      <td>https://api.spotify.com/v1/artists/1McMsnEElTh...</td>\n",
       "    </tr>\n",
       "    <tr>\n",
       "      <th>3</th>\n",
       "      <td>06HL4z0CvFAxyc27GXpf02</td>\n",
       "      <td>Taylor Swift</td>\n",
       "      <td>https://api.spotify.com/v1/artists/06HL4z0CvFA...</td>\n",
       "    </tr>\n",
       "    <tr>\n",
       "      <th>4</th>\n",
       "      <td>5y8tKLUfMvliMe8IKamR32</td>\n",
       "      <td>d4vd</td>\n",
       "      <td>https://api.spotify.com/v1/artists/5y8tKLUfMvl...</td>\n",
       "    </tr>\n",
       "  </tbody>\n",
       "</table>\n",
       "</div>"
      ],
      "text/plain": [
       "                artist_id     artist_name  \\\n",
       "0  0hCNtLu0JehylgoiP8L4Gh     Nicki Minaj   \n",
       "1  5cj0lLjcoR7YOSnhnX0Po5        Doja Cat   \n",
       "2  1McMsnEElThX1knmY4oliG  Olivia Rodrigo   \n",
       "3  06HL4z0CvFAxyc27GXpf02    Taylor Swift   \n",
       "4  5y8tKLUfMvliMe8IKamR32            d4vd   \n",
       "\n",
       "                                        external_url  \n",
       "0  https://api.spotify.com/v1/artists/0hCNtLu0Jeh...  \n",
       "1  https://api.spotify.com/v1/artists/5cj0lLjcoR7...  \n",
       "2  https://api.spotify.com/v1/artists/1McMsnEElTh...  \n",
       "3  https://api.spotify.com/v1/artists/06HL4z0CvFA...  \n",
       "4  https://api.spotify.com/v1/artists/5y8tKLUfMvl...  "
      ]
     },
     "execution_count": 36,
     "metadata": {},
     "output_type": "execute_result"
    }
   ],
   "source": [
    "artist_df = pd.DataFrame.from_dict(artist_list)\n",
    "artist_df.head()"
   ]
  },
  {
   "cell_type": "code",
   "execution_count": 37,
   "metadata": {},
   "outputs": [],
   "source": [
    "artist_df.drop_duplicates(subset=['artist_id'], inplace=True)"
   ]
  },
  {
   "cell_type": "markdown",
   "metadata": {},
   "source": [
    "Song DataFrame"
   ]
  },
  {
   "cell_type": "code",
   "execution_count": 38,
   "metadata": {},
   "outputs": [
    {
     "data": {
      "text/html": [
       "<div>\n",
       "<style scoped>\n",
       "    .dataframe tbody tr th:only-of-type {\n",
       "        vertical-align: middle;\n",
       "    }\n",
       "\n",
       "    .dataframe tbody tr th {\n",
       "        vertical-align: top;\n",
       "    }\n",
       "\n",
       "    .dataframe thead th {\n",
       "        text-align: right;\n",
       "    }\n",
       "</style>\n",
       "<table border=\"1\" class=\"dataframe\">\n",
       "  <thead>\n",
       "    <tr style=\"text-align: right;\">\n",
       "      <th></th>\n",
       "      <th>song_id</th>\n",
       "      <th>song_name</th>\n",
       "      <th>duration_ms</th>\n",
       "      <th>url</th>\n",
       "      <th>popularity</th>\n",
       "      <th>song_added</th>\n",
       "      <th>album_id</th>\n",
       "      <th>artist_id</th>\n",
       "    </tr>\n",
       "  </thead>\n",
       "  <tbody>\n",
       "    <tr>\n",
       "      <th>0</th>\n",
       "      <td>79DPYZ6x8FfzgSgPoPhpC3</td>\n",
       "      <td>Last Time I Saw You</td>\n",
       "      <td>216347</td>\n",
       "      <td>https://open.spotify.com/track/79DPYZ6x8FfzgSg...</td>\n",
       "      <td>82</td>\n",
       "      <td>2023-09-07T18:03:59Z</td>\n",
       "      <td>1e26jDA4kEIjhgaMUf8mH1</td>\n",
       "      <td>0hCNtLu0JehylgoiP8L4Gh</td>\n",
       "    </tr>\n",
       "    <tr>\n",
       "      <th>1</th>\n",
       "      <td>2IGMVunIBsBLtEQyoI1Mu7</td>\n",
       "      <td>Paint The Town Red</td>\n",
       "      <td>231750</td>\n",
       "      <td>https://open.spotify.com/track/2IGMVunIBsBLtEQ...</td>\n",
       "      <td>99</td>\n",
       "      <td>2023-09-07T18:03:59Z</td>\n",
       "      <td>54dZypaXHAIDzBe9ujAZ63</td>\n",
       "      <td>5cj0lLjcoR7YOSnhnX0Po5</td>\n",
       "    </tr>\n",
       "    <tr>\n",
       "      <th>2</th>\n",
       "      <td>2gyxAWHebV7xPYVxqoi86f</td>\n",
       "      <td>get him back!</td>\n",
       "      <td>211141</td>\n",
       "      <td>https://open.spotify.com/track/2gyxAWHebV7xPYV...</td>\n",
       "      <td>80</td>\n",
       "      <td>2023-09-07T18:03:59Z</td>\n",
       "      <td>1xJHno7SmdVtZAtXbdbDZp</td>\n",
       "      <td>1McMsnEElThX1knmY4oliG</td>\n",
       "    </tr>\n",
       "    <tr>\n",
       "      <th>3</th>\n",
       "      <td>1BxfuPKGuaTgP7aM0Bbdwr</td>\n",
       "      <td>Cruel Summer</td>\n",
       "      <td>178426</td>\n",
       "      <td>https://open.spotify.com/track/1BxfuPKGuaTgP7a...</td>\n",
       "      <td>100</td>\n",
       "      <td>2023-09-07T18:03:59Z</td>\n",
       "      <td>1NAmidJlEaVgA3MpcPFYGq</td>\n",
       "      <td>06HL4z0CvFAxyc27GXpf02</td>\n",
       "    </tr>\n",
       "    <tr>\n",
       "      <th>4</th>\n",
       "      <td>1exDZN0zsfDpsIKamOqmSz</td>\n",
       "      <td>Once More</td>\n",
       "      <td>121695</td>\n",
       "      <td>https://open.spotify.com/track/1exDZN0zsfDpsIK...</td>\n",
       "      <td>59</td>\n",
       "      <td>2023-09-07T18:03:59Z</td>\n",
       "      <td>4YbgMvlvGC8FjzkSOLGgWC</td>\n",
       "      <td>5y8tKLUfMvliMe8IKamR32</td>\n",
       "    </tr>\n",
       "  </tbody>\n",
       "</table>\n",
       "</div>"
      ],
      "text/plain": [
       "                  song_id            song_name  duration_ms  \\\n",
       "0  79DPYZ6x8FfzgSgPoPhpC3  Last Time I Saw You       216347   \n",
       "1  2IGMVunIBsBLtEQyoI1Mu7   Paint The Town Red       231750   \n",
       "2  2gyxAWHebV7xPYVxqoi86f        get him back!       211141   \n",
       "3  1BxfuPKGuaTgP7aM0Bbdwr         Cruel Summer       178426   \n",
       "4  1exDZN0zsfDpsIKamOqmSz            Once More       121695   \n",
       "\n",
       "                                                 url  popularity  \\\n",
       "0  https://open.spotify.com/track/79DPYZ6x8FfzgSg...          82   \n",
       "1  https://open.spotify.com/track/2IGMVunIBsBLtEQ...          99   \n",
       "2  https://open.spotify.com/track/2gyxAWHebV7xPYV...          80   \n",
       "3  https://open.spotify.com/track/1BxfuPKGuaTgP7a...         100   \n",
       "4  https://open.spotify.com/track/1exDZN0zsfDpsIK...          59   \n",
       "\n",
       "             song_added                album_id               artist_id  \n",
       "0  2023-09-07T18:03:59Z  1e26jDA4kEIjhgaMUf8mH1  0hCNtLu0JehylgoiP8L4Gh  \n",
       "1  2023-09-07T18:03:59Z  54dZypaXHAIDzBe9ujAZ63  5cj0lLjcoR7YOSnhnX0Po5  \n",
       "2  2023-09-07T18:03:59Z  1xJHno7SmdVtZAtXbdbDZp  1McMsnEElThX1knmY4oliG  \n",
       "3  2023-09-07T18:03:59Z  1NAmidJlEaVgA3MpcPFYGq  06HL4z0CvFAxyc27GXpf02  \n",
       "4  2023-09-07T18:03:59Z  4YbgMvlvGC8FjzkSOLGgWC  5y8tKLUfMvliMe8IKamR32  "
      ]
     },
     "execution_count": 38,
     "metadata": {},
     "output_type": "execute_result"
    }
   ],
   "source": [
    "song_df = pd.DataFrame.from_dict(song_list)\n",
    "song_df.head()"
   ]
  },
  {
   "cell_type": "code",
   "execution_count": 39,
   "metadata": {},
   "outputs": [],
   "source": [
    "song_df['song_added'] = pd.to_datetime(song_df['song_added'])"
   ]
  }
 ],
 "metadata": {
  "kernelspec": {
   "display_name": "base",
   "language": "python",
   "name": "python3"
  },
  "language_info": {
   "codemirror_mode": {
    "name": "ipython",
    "version": 3
   },
   "file_extension": ".py",
   "mimetype": "text/x-python",
   "name": "python",
   "nbconvert_exporter": "python",
   "pygments_lexer": "ipython3",
   "version": "3.9.13"
  },
  "orig_nbformat": 4
 },
 "nbformat": 4,
 "nbformat_minor": 2
}
